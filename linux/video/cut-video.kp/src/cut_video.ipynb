{
 "cells": [
  {
   "cell_type": "raw",
   "metadata": {},
   "source": [
    "---\n",
    "title: Cutting a video with ffmpeg\n",
    "authors:\n",
    "- FlorentF9\n",
    "tags:\n",
    "- linux\n",
    "- video\n",
    "- ffmpeg\n",
    "created_at: 2010-05-05\n",
    "updated_at: 2016-05-05\n",
    "tldr: How to cut a video using ffmpeg in command-line.\n",
    "---"
   ]
  },
  {
   "cell_type": "markdown",
   "metadata": {},
   "source": [
    "### Cutting a video with `ffmpeg`"
   ]
  },
  {
   "cell_type": "markdown",
   "metadata": {},
   "source": [
    "The `ffmpeg` command-line tool can be used to cut out a specific time interval from a video, using start/end timestamps. Here is the signification of the necessary options:\n",
    "\n",
    "* `-i` specifies the input file\n",
    "* `-ss` specifies the start timestamp (seeking to the specified timestamp) *[optional]*\n",
    "* `-t` or `-to` specify respectively a duration or an end timestamp *[optional]*\n",
    "* `-async` audio sync method, set to 1 to simply sync the start of the audio stream \n",
    "* `-strict -2` is necessary for experimental aac codec"
   ]
  },
  {
   "cell_type": "markdown",
   "metadata": {},
   "source": [
    "```shell\n",
    "$ ffmpeg -i input.mp4 -ss 00:07:42 -to 00:09:33 -async 1 -strict -2 ouput.mp4\n",
    "```"
   ]
  },
  {
   "cell_type": "markdown",
   "metadata": {},
   "source": [
    "**NOTE:** `-ss` can be specified *before* the `-i` option to directly seek to the specified time stamp (faster), but the option `-to` won't work (it will specify a relative duration, behaving the same as `-t`)"
   ]
  },
  {
   "cell_type": "markdown",
   "metadata": {},
   "source": [
    "* https://stackoverflow.com/questions/18444194/cutting-the-videos-based-on-start-and-end-time-using-ffmpeg"
   ]
  }
 ],
 "metadata": {
  "hide_input": false,
  "kernelspec": {
   "display_name": "Python 3",
   "language": "python",
   "name": "python3"
  },
  "language_info": {
   "codemirror_mode": {
    "name": "ipython",
    "version": 3
   },
   "file_extension": ".py",
   "mimetype": "text/x-python",
   "name": "python",
   "nbconvert_exporter": "python",
   "pygments_lexer": "ipython3",
   "version": "3.5.2"
  }
 },
 "nbformat": 4,
 "nbformat_minor": 2
}