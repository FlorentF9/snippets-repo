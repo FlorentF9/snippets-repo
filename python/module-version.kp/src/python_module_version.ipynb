{
 "cells": [
  {
   "cell_type": "raw",
   "metadata": {},
   "source": [
    "---\n",
    "title: Python module version\n",
    "authors:\n",
    "- FlorentF9\n",
    "tags:\n",
    "- python\n",
    "created_at: 2019-01-23\n",
    "updated_at: 2019-01-23\n",
    "tldr: Finding out the version of a Python module.\n",
    "---"
   ]
  },
  {
   "cell_type": "markdown",
   "metadata": {},
   "source": [
    "### Python module version"
   ]
  },
  {
   "cell_type": "markdown",
   "metadata": {},
   "source": [
    "This commands prints all modules installed via pip with their versions. A particular module can be found using grep:\n",
    "\n",
    "```shell\n",
    "$ pip freeze | grep module\n",
    "```\n",
    "\n",
    "For most modules, version number is available in a variable called `__version__`.\n",
    "\n",
    "```shell\n",
    "$ python -c \"import module; print(module.__version__)\"\n",
    "```\n",
    "\n",
    "For example:"
   ]
  },
  {
   "cell_type": "code",
   "execution_count": null,
   "metadata": {},
   "outputs": [],
   "source": [
    "import numpy\n",
    "print(numpy.__version__)"
   ]
  }
 ],
 "metadata": {
  "hide_input": false,
  "kernelspec": {
   "display_name": "Python 3",
   "language": "python",
   "name": "python3"
  },
  "language_info": {
   "codemirror_mode": {
    "name": "ipython",
    "version": 3
   },
   "file_extension": ".py",
   "mimetype": "text/x-python",
   "name": "python",
   "nbconvert_exporter": "python",
   "pygments_lexer": "ipython3",
   "version": "3.5.2"
  }
 },
 "nbformat": 4,
 "nbformat_minor": 2
}