{
 "cells": [
  {
   "cell_type": "raw",
   "metadata": {},
   "source": [
    "---\n",
    "title: Install google-drive-ocamlfuse on Ubuntu Linux\n",
    "authors:\n",
    "- FlorentF9\n",
    "tags:\n",
    "- linux\n",
    "- ubuntu\n",
    "- google-drive\n",
    "created_at: 2019-03-09\n",
    "updated_at: 2019-03-09\n",
    "tldr: Installing google-drive-ocamlfuse on Ubuntu to mount Google Drive filesystem.\n",
    "---"
   ]
  },
  {
   "cell_type": "markdown",
   "metadata": {},
   "source": [
    "### Installing google-drive-ocamlfuse on Ubuntu Linux"
   ]
  },
  {
   "cell_type": "markdown",
   "metadata": {},
   "source": [
    "#### Installation"
   ]
  },
  {
   "cell_type": "markdown",
   "metadata": {},
   "source": [
    "On Ubuntu, add PPA repository and install package:\n",
    "\n",
    "```shell\n",
    "$ sudo add-apt-repository ppa:alessandro-strada/ppa\n",
    "$ sudo apt update\n",
    "$ sudo apt install google-drive-ocamlfuse \n",
    "```"
   ]
  },
  {
   "cell_type": "markdown",
   "metadata": {},
   "source": [
    "#### Usage"
   ]
  },
  {
   "cell_type": "markdown",
   "metadata": {},
   "source": [
    "First, authenticate using the Google account, by running `$ google-drive-ocamlfuse`. This will open a browser and the authentication page.\n",
    "\n",
    "Then, create the directory where the Google Drive will be mounted:\n",
    "\n",
    "```shell\n",
    "$ mkdir ~/gdrive\n",
    "$ google-drive-ocamlfuse ~/gdrive\n",
    "```\n",
    "\n",
    "To mount it automatically on start-up, add the last command line to the start-up programs."
   ]
  },
  {
   "cell_type": "markdown",
   "metadata": {},
   "source": [
    "### References"
   ]
  },
  {
   "cell_type": "markdown",
   "metadata": {},
   "source": [
    "* https://doc.ubuntu-fr.org/google_drive#google-drive-ocamlfuse"
   ]
  }
 ],
 "metadata": {
  "hide_input": false,
  "kernelspec": {
   "display_name": "Python 3",
   "language": "python",
   "name": "python3"
  },
  "language_info": {
   "codemirror_mode": {
    "name": "ipython",
    "version": 3
   },
   "file_extension": ".py",
   "mimetype": "text/x-python",
   "name": "python",
   "nbconvert_exporter": "python",
   "pygments_lexer": "ipython3",
   "version": "3.5.2"
  }
 },
 "nbformat": 4,
 "nbformat_minor": 2
}