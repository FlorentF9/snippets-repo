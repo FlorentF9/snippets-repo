{
 "cells": [
  {
   "cell_type": "raw",
   "metadata": {},
   "source": [
    "---\n",
    "title: Add a new snippet-repo post\n",
    "authors:\n",
    "- FlorentF9\n",
    "tags:\n",
    "- meta\n",
    "- knowledge-repo\n",
    "created_at: 2019-02-02\n",
    "updated_at: 2019-02-02\n",
    "tldr: This meta-post explains how to add a new post to the snippet-repo.\n",
    "---"
   ]
  },
  {
   "cell_type": "markdown",
   "metadata": {},
   "source": [
    "### Adding a new post to the snippet-repo"
   ]
  },
  {
   "cell_type": "markdown",
   "metadata": {},
   "source": [
    "#### Create and submit the post"
   ]
  },
  {
   "cell_type": "markdown",
   "metadata": {},
   "source": [
    "Use the template to write a snippet, e.g. using the Jupyter notebook template. Choose a category or sub-category for you post and add it to the knowledge-repo:\n",
    "\n",
    "```shell\n",
    "$ knowledge_repo add my_post.ipynb -p category/sub/my-post\n",
    "```\n",
    "\n",
    "This will automatically create a new branch.  Then, preview the post using:\n",
    "\n",
    "```shell\n",
    "$ knowledge_repo preview category/sub/my-post\n",
    "```\n",
    "\n",
    "If everything looks fine, submit the pull request: \n",
    "\n",
    "```shell\n",
    "$ knowledge_repo submit category/sub/my-post\n",
    "```"
   ]
  },
  {
   "cell_type": "markdown",
   "metadata": {},
   "source": [
    "#### Merge the branch into master"
   ]
  },
  {
   "cell_type": "markdown",
   "metadata": {},
   "source": [
    "```shell\n",
    "$ git checkout master\n",
    "$ git pull\n",
    "$ git merge category/sub/my-post.kp\n",
    "$ git push\n",
    "```\n",
    "\n",
    "Eventually, delete the branch:\n",
    "\n",
    "```shell\n",
    "$ git branch -d category/sub/my-post.kp\n",
    "```"
   ]
  }
 ],
 "metadata": {
  "hide_input": false,
  "kernelspec": {
   "display_name": "Python 3",
   "language": "python",
   "name": "python3"
  },
  "language_info": {
   "codemirror_mode": {
    "name": "ipython",
    "version": 3
   },
   "file_extension": ".py",
   "mimetype": "text/x-python",
   "name": "python",
   "nbconvert_exporter": "python",
   "pygments_lexer": "ipython3",
   "version": "3.5.2"
  }
 },
 "nbformat": 4,
 "nbformat_minor": 2
}