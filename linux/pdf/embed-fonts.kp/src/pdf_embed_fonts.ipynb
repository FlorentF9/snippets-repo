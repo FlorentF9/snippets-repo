{
 "cells": [
  {
   "cell_type": "raw",
   "metadata": {},
   "source": [
    "---\n",
    "title: Embed fonts in PDF\n",
    "authors:\n",
    "- FlorentF9\n",
    "tags:\n",
    "- linux\n",
    "- pdf\n",
    "- ghostscript\n",
    "created_at: 2019-01-23\n",
    "updated_at: 2019-01-23\n",
    "tldr: Embedding fonts into a PDF file for printing using ghostscript.\n",
    "---"
   ]
  },
  {
   "cell_type": "markdown",
   "metadata": {},
   "source": [
    "### Embed fonts in PDF\n",
    "\n",
    "#### Command line\n",
    "\n",
    "This post presents how to embed fonts into a PDF file in Linux command-line. This is required for printing, if the fonts are not already embedded and not recognized by the printer.\n",
    "\n",
    "This Ghostscript command embeds the fonts (if it can find the fonts automatically on the system):\n",
    "\n",
    "```shell\n",
    "$ gs -q -dBATCH -dNOPAUSE -sDEVICE=pdfwrite -dPDFSETTINGS=/prepress -sOutputFile=output.pdf input.pdf\n",
    "```\n",
    "\n",
    "**Warning**: using the input name as output will erase the input file and result in an empty file!\n",
    "\n",
    "#### Shell script\n",
    "\n",
    "To avoid remembering this command, it is very convenient to create a shell script and make it executable (for instance, `/usr/local/bin/pdfembedfonts`). The following script is also available as a gist: https://gist.github.com/FlorentF9/b96b0aaa24f8efc5e63f921d26cb2b92.\n",
    "\n",
    "```sh\n",
    "#!/bin/bash\n",
    "# Embeds fonts in PDF file for printing (replaces existing file)\n",
    "# Requires: ghostscript\n",
    "if [ $# -ne 1 ]\n",
    "then\n",
    "  echo \"Usage example: pdfembedfonts input.pdf\"\n",
    "  exit $E_BADARGS\n",
    "else\n",
    "    gs -q -dBATCH -dNOPAUSE -sDEVICE=pdfwrite -dPDFSETTINGS=/prepress -sOutputFile=$1.tmp $1\n",
    "    mv $1.tmp $1\n",
    "fi\n",
    "```"
   ]
  }
 ],
 "metadata": {
  "hide_input": false,
  "kernelspec": {
   "display_name": "Python 3",
   "language": "python",
   "name": "python3"
  },
  "language_info": {
   "codemirror_mode": {
    "name": "ipython",
    "version": 3
   },
   "file_extension": ".py",
   "mimetype": "text/x-python",
   "name": "python",
   "nbconvert_exporter": "python",
   "pygments_lexer": "ipython3",
   "version": "3.5.2"
  }
 },
 "nbformat": 4,
 "nbformat_minor": 2
}