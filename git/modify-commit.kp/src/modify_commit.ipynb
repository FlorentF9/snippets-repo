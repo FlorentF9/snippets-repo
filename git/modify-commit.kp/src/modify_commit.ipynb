{
 "cells": [
  {
   "cell_type": "raw",
   "metadata": {},
   "source": [
    "---\n",
    "title: Modifying a git commit\n",
    "authors:\n",
    "- FlorentF9\n",
    "tags:\n",
    "- git\n",
    "created_at: 2019-02-02\n",
    "updated_at: 2019-02-02\n",
    "tldr: Modifying the last git commit using amend.\n",
    "---"
   ]
  },
  {
   "cell_type": "markdown",
   "metadata": {},
   "source": [
    "One often wants to modify the last commit, for example if one forgot to include some modification in it, or if there was a typo in the commit message."
   ]
  },
  {
   "cell_type": "markdown",
   "metadata": {},
   "source": [
    "### Modifying the last git commit"
   ]
  },
  {
   "cell_type": "markdown",
   "metadata": {},
   "source": [
    "First, add the modifications using `git add`. Then one can use the following command, that will update the last commit:\n",
    "\n",
    "```shell\n",
    "$ git commit --amend -m \"New message\"\n",
    "```\n",
    "\n",
    "Or, to keep the same commit message:\n",
    "\n",
    "```shell\n",
    "$ git commit --amend --no-edit\n",
    "```\n",
    "\n",
    "In case the last commit was already pushed to the remote branch, you can push using  the `-f` flag to overwrite it.  \n",
    "```shell\n",
    "$ git push -f\n",
    "```\n",
    "**When using this option, verify that you don't overwrite someone else's commit.**"
   ]
  }
 ],
 "metadata": {
  "hide_input": false,
  "kernelspec": {
   "display_name": "Python 3",
   "language": "python",
   "name": "python3"
  },
  "language_info": {
   "codemirror_mode": {
    "name": "ipython",
    "version": 3
   },
   "file_extension": ".py",
   "mimetype": "text/x-python",
   "name": "python",
   "nbconvert_exporter": "python",
   "pygments_lexer": "ipython3",
   "version": "3.5.2"
  }
 },
 "nbformat": 4,
 "nbformat_minor": 2
}