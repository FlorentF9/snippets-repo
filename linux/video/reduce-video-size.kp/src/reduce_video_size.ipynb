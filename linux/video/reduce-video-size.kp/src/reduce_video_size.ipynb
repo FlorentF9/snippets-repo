{
 "cells": [
  {
   "cell_type": "raw",
   "metadata": {},
   "source": [
    "---\n",
    "title: Reducing the size of a video with ffmpeg\n",
    "authors:\n",
    "- FlorentF9\n",
    "tags:\n",
    "- linux\n",
    "- video\n",
    "- ffmpeg\n",
    "created_at: 2010-05-05\n",
    "updated_at: 2016-05-05\n",
    "tldr: How to compress a video and reduce its size while retaining good quality using ffmpeg in command-line.\n",
    "---"
   ]
  },
  {
   "cell_type": "markdown",
   "metadata": {},
   "source": [
    "### Cutting a video with `ffmpeg`"
   ]
  },
  {
   "cell_type": "markdown",
   "metadata": {},
   "source": [
    "The `ffmpeg` command-line tool can be used to compress and reduce the size of a video file. There are at least two ways to achieve it:\n",
    "\n",
    "1. Changing the bit rate\n",
    "2. Setting the Constant Rate Factor"
   ]
  },
  {
   "cell_type": "markdown",
   "metadata": {},
   "source": [
    "#### Changing the bit rate"
   ]
  },
  {
   "cell_type": "markdown",
   "metadata": {},
   "source": [
    "The bit rate can be set using the `-b` option:\n",
    "\n",
    "```shell\n",
    "$ ffmpeg -i input.mp4 -b 1000000 output.mp4\n",
    "```\n",
    "\n",
    "To find the adequate bit rate, the formula is:\n",
    "\n",
    "$\\text{bit rate} [byte/s] = \\frac{\\text{video size} [byte]}{\\text{video length} [s]}$"
   ]
  },
  {
   "cell_type": "markdown",
   "metadata": {},
   "source": [
    "#### Setting the Constant Rate Factor"
   ]
  },
  {
   "cell_type": "markdown",
   "metadata": {},
   "source": [
    "The CRF (Constant Rate Factor) is a number between 18 and 24 that reduces the bit rate while retaining better quality. The lowest value (18) corresponds to the best quality. It can be set using the `-crf` command-line option:\n",
    "\n",
    "```shell\n",
    "$ ffmpeg -i input.mp4 -vcodec libx264 -crf 20 output.mp4\n",
    "```\n",
    "\n",
    "For example, using a CRF of 20 reduced a video by a factor of 5 (from 2GB to 400MB)."
   ]
  },
  {
   "cell_type": "markdown",
   "metadata": {},
   "source": [
    "* https://unix.stackexchange.com/questions/28803/how-can-i-reduce-a-videos-size-with-ffmpeg"
   ]
  }
 ],
 "metadata": {
  "hide_input": false,
  "kernelspec": {
   "display_name": "Python 3",
   "language": "python",
   "name": "python3"
  },
  "language_info": {
   "codemirror_mode": {
    "name": "ipython",
    "version": 3
   },
   "file_extension": ".py",
   "mimetype": "text/x-python",
   "name": "python",
   "nbconvert_exporter": "python",
   "pygments_lexer": "ipython3",
   "version": "3.5.2"
  }
 },
 "nbformat": 4,
 "nbformat_minor": 2
}