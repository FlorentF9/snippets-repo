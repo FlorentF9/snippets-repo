{
 "cells": [
  {
   "cell_type": "raw",
   "metadata": {},
   "source": [
    "---\n",
    "title: Cut pages from PDF\n",
    "authors:\n",
    "- FlorentF9\n",
    "tags:\n",
    "- linux\n",
    "- pdf\n",
    "- ghostscript\n",
    "- pdftk\n",
    "created_at: 2019-01-23\n",
    "updated_at: 2019-01-23\n",
    "tldr: Cutting out pages from a PDF file using ghostscript or pdftk.\n",
    "---"
   ]
  },
  {
   "cell_type": "markdown",
   "metadata": {},
   "source": [
    "### Cut pages from PDF\n",
    "\n",
    "This post presents two ways to cut out pages from a PDF file in Linux command-line. In this example, we want to extract pages 9 to 17.\n",
    "\n",
    "#### Using Ghostscript\n",
    "\n",
    "```shell\n",
    "$ gs -dBATCH -dNOPAUSE -sDEVICE=pdfwrite -dFirstPage=9 -dLastPage=17 -sOutputFile=output.pdf input.pdf\n",
    "```\n",
    "\n",
    "**Warning**: using the input name as output will erase the input file and result in an empty file!\n",
    "\n",
    "#### Using pdftk\n",
    "\n",
    "```shell\n",
    "$ pdftk input.pdf cat 9-17 output output.pdf\n",
    "```\n"
   ]
  }
 ],
 "metadata": {
  "hide_input": false,
  "kernelspec": {
   "display_name": "Python 3",
   "language": "python",
   "name": "python3"
  },
  "language_info": {
   "codemirror_mode": {
    "name": "ipython",
    "version": 3
   },
   "file_extension": ".py",
   "mimetype": "text/x-python",
   "name": "python",
   "nbconvert_exporter": "python",
   "pygments_lexer": "ipython3",
   "version": "3.5.2"
  }
 },
 "nbformat": 4,
 "nbformat_minor": 2
}